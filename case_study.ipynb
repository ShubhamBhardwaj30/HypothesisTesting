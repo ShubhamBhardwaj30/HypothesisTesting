{
 "cells": [
  {
   "cell_type": "code",
   "execution_count": 2,
   "id": "fbcc8324",
   "metadata": {},
   "outputs": [],
   "source": [
    "import numpy as np\n",
    "import pandas as pd\n",
    "import matplotlib.pyplot as plt\n",
    "import seaborn as sns\n",
    "from scipy import stats\n",
    "import statsmodels.api as sm\n",
    "import statsmodels.formula.api as smf\n",
    "from statsmodels.stats.proportion import proportions_ztest\n",
    "\n",
    "# ----------------------------\n",
    "# PARAMETERS\n",
    "# ----------------------------\n",
    "np.random.seed(42)\n",
    "\n",
    "n_clusters = 120             # number of clusters\n",
    "cluster_size_min = 50\n",
    "cluster_size_max = 80\n",
    "baseline_rate = 0.08         # control prob\n",
    "treatment_effect = 0.015     # uplift in treatment\n",
    "alpha = 0.05\n",
    "\n",
    "# ----------------------------\n",
    "# SIMULATE CLUSTERS & USERS\n",
    "# ----------------------------\n",
    "clusters = np.arange(n_clusters)\n",
    "assignment = np.random.choice([0, 1], size=n_clusters)  # 0=control, 1=treatment\n",
    "cluster_sizes = np.random.randint(cluster_size_min, cluster_size_max+1, size=n_clusters)\n",
    "\n",
    "records = []\n",
    "for cid, size, treat in zip(clusters, cluster_sizes, assignment):\n",
    "    cluster_effect = np.random.normal(0, 0.01)  # cluster heterogeneity\n",
    "    for uid in range(size):\n",
    "        user_noise = np.random.normal(0, 0.005)\n",
    "        p = baseline_rate + (treatment_effect if treat == 1 else 0) + cluster_effect + user_noise\n",
    "        p = np.clip(p, 0, 1)\n",
    "        reacted = np.random.binomial(1, p)\n",
    "        records.append([cid, treat, reacted])\n"
   ]
  },
  {
   "cell_type": "code",
   "execution_count": 3,
   "id": "b3e8b42b",
   "metadata": {},
   "outputs": [
    {
     "name": "stdout",
     "output_type": "stream",
     "text": [
      "Cluster-level Welch t-test\n",
      "Control mean: 0.0800, Treatment mean: 0.0946\n",
      "t = -2.423, p = 0.0170\n",
      "\n"
     ]
    }
   ],
   "source": [
    "df = pd.DataFrame(records, columns=[\"cluster\", \"treatment\", \"reacted\"])\n",
    "\n",
    "# ----------------------------\n",
    "# CLUSTER-LEVEL ANALYSIS\n",
    "# ----------------------------\n",
    "cluster_means = df.groupby([\"cluster\", \"treatment\"])[\"reacted\"].mean().reset_index()\n",
    "ctrl = cluster_means[cluster_means[\"treatment\"] == 0][\"reacted\"]\n",
    "trt  = cluster_means[cluster_means[\"treatment\"] == 1][\"reacted\"]\n",
    "\n",
    "t_stat, p_val = stats.ttest_ind(ctrl, trt, equal_var=False)\n",
    "print(\"Cluster-level Welch t-test\")\n",
    "print(f\"Control mean: {ctrl.mean():.4f}, Treatment mean: {trt.mean():.4f}\")\n",
    "print(f\"t = {t_stat:.3f}, p = {p_val:.4f}\\n\")"
   ]
  },
  {
   "cell_type": "code",
   "execution_count": 4,
   "id": "b35be16a",
   "metadata": {},
   "outputs": [
    {
     "name": "stdout",
     "output_type": "stream",
     "text": [
      "Cluster-robust OLS regression\n",
      "                            OLS Regression Results                            \n",
      "==============================================================================\n",
      "Dep. Variable:                reacted   R-squared:                       0.001\n",
      "Model:                            OLS   Adj. R-squared:                  0.001\n",
      "Method:                 Least Squares   F-statistic:                     5.867\n",
      "Date:                Wed, 01 Oct 2025   Prob (F-statistic):             0.0169\n",
      "Time:                        14:56:51   Log-Likelihood:                -1244.9\n",
      "No. Observations:                7803   AIC:                             2494.\n",
      "Df Residuals:                    7801   BIC:                             2508.\n",
      "Df Model:                           1                                         \n",
      "Covariance Type:              cluster                                         \n",
      "==============================================================================\n",
      "                 coef    std err          z      P>|z|      [0.025      0.975]\n",
      "------------------------------------------------------------------------------\n",
      "Intercept      0.0799      0.004     18.498      0.000       0.071       0.088\n",
      "treatment      0.0145      0.006      2.422      0.015       0.003       0.026\n",
      "==============================================================================\n",
      "Omnibus:                     4438.269   Durbin-Watson:                   1.995\n",
      "Prob(Omnibus):                  0.000   Jarque-Bera (JB):            24217.591\n",
      "Skew:                           2.897   Prob(JB):                         0.00\n",
      "Kurtosis:                       9.398   Cond. No.                         2.88\n",
      "==============================================================================\n",
      "\n",
      "Notes:\n",
      "[1] Standard Errors are robust to cluster correlation (cluster) \n",
      "\n"
     ]
    }
   ],
   "source": [
    "# ----------------------------\n",
    "# USER-LEVEL REGRESSION with CLUSTER-ROBUST SE\n",
    "# ----------------------------\n",
    "model = smf.ols(\"reacted ~ treatment\", data=df).fit(cov_type='cluster', cov_kwds={'groups': df['cluster']})\n",
    "print(\"Cluster-robust OLS regression\")\n",
    "print(model.summary(), \"\\n\")"
   ]
  },
  {
   "cell_type": "code",
   "execution_count": 5,
   "id": "406a05b4",
   "metadata": {},
   "outputs": [
    {
     "name": "stdout",
     "output_type": "stream",
     "text": [
      "Naive two-proportion z-test\n",
      "z = -2.218, p = 0.0265\n",
      "\n"
     ]
    }
   ],
   "source": [
    "# ----------------------------\n",
    "# NAIVE USER-LEVEL Z-TEST (WRONG if clustering exists, but shown for contrast)\n",
    "# ----------------------------\n",
    "success = df.groupby(\"treatment\")[\"reacted\"].sum().values\n",
    "nobs = df.groupby(\"treatment\")[\"reacted\"].count().values\n",
    "z_stat, z_pval = proportions_ztest(success, nobs)\n",
    "print(\"Naive two-proportion z-test\")\n",
    "print(f\"z = {z_stat:.3f}, p = {z_pval:.4f}\\n\")"
   ]
  },
  {
   "cell_type": "code",
   "execution_count": 6,
   "id": "a44cb164",
   "metadata": {},
   "outputs": [
    {
     "name": "stdout",
     "output_type": "stream",
     "text": [
      "Empirical power estimate (n=200 sims): 0.580\n",
      "\n"
     ]
    }
   ],
   "source": [
    "\n",
    "# ----------------------------\n",
    "# EMPIRICAL POWER (by re-simulation)\n",
    "# ----------------------------\n",
    "def run_once():\n",
    "    assign = np.random.choice([0,1], size=n_clusters)\n",
    "    recs = []\n",
    "    for cid, size, treat in zip(clusters, cluster_sizes, assign):\n",
    "        cluster_effect = np.random.normal(0, 0.01)\n",
    "        for uid in range(size):\n",
    "            user_noise = np.random.normal(0, 0.005)\n",
    "            p = baseline_rate + (treatment_effect if treat == 1 else 0) + cluster_effect + user_noise\n",
    "            p = np.clip(p, 0, 1)\n",
    "            reacted = np.random.binomial(1, p)\n",
    "            recs.append([cid, treat, reacted])\n",
    "    d = pd.DataFrame(recs, columns=[\"cluster\",\"treatment\",\"reacted\"])\n",
    "    cm = d.groupby([\"cluster\",\"treatment\"])[\"reacted\"].mean().reset_index()\n",
    "    c = cm[cm[\"treatment\"]==0][\"reacted\"]\n",
    "    t = cm[cm[\"treatment\"]==1][\"reacted\"]\n",
    "    _, pv = stats.ttest_ind(c,t,equal_var=False)\n",
    "    return pv < alpha\n",
    "\n",
    "n_sims = 200\n",
    "power_est = np.mean([run_once() for _ in range(n_sims)])\n",
    "print(f\"Empirical power estimate (n={n_sims} sims): {power_est:.3f}\\n\")"
   ]
  },
  {
   "cell_type": "code",
   "execution_count": 7,
   "id": "b0f81566",
   "metadata": {},
   "outputs": [
    {
     "data": {
      "image/png": "[encoded data removed]",
      "text/plain": [
       "<Figure size 640x480 with 1 Axes>"
      ]
     },
     "metadata": {},
     "output_type": "display_data"
    },
    {
     "data": {
      "image/png": "[encoded data removed]",
      "text/plain": [
       "<Figure size 640x480 with 1 Axes>"
      ]
     },
     "metadata": {},
     "output_type": "display_data"
    }
   ],
   "source": [
    "# ----------------------------\n",
    "# VISUALIZATIONS\n",
    "# ----------------------------\n",
    "sns.histplot(ctrl, color=\"skyblue\", label=\"Control clusters\", kde=False)\n",
    "sns.histplot(trt, color=\"salmon\", label=\"Treatment clusters\", kde=False)\n",
    "plt.xlabel(\"Cluster mean reaction rate\")\n",
    "plt.ylabel(\"Frequency\")\n",
    "plt.title(\"Distribution of cluster means\")\n",
    "plt.legend()\n",
    "plt.show()\n",
    "\n",
    "sns.boxplot(x=\"treatment\", y=\"reacted\", data=df.replace({\"treatment\":{0:\"Control\",1:\"Treatment\"}}))\n",
    "plt.title(\"User-level reaction outcomes\")\n",
    "plt.show()"
   ]
  },
  {
   "cell_type": "code",
   "execution_count": null,
   "id": "bc688cc7",
   "metadata": {},
   "outputs": [],
   "source": []
  },
  {
   "cell_type": "code",
   "execution_count": null,
   "id": "bf9a9004",
   "metadata": {},
   "outputs": [],
   "source": []
  },
  {
   "cell_type": "code",
   "execution_count": null,
   "id": "3a648973",
   "metadata": {},
   "outputs": [],
   "source": []
  }
 ],
 "metadata": {
  "kernelspec": {
   "display_name": ".venv",
   "language": "python",
   "name": "python3"
  },
  "language_info": {
   "codemirror_mode": {
    "name": "ipython",
    "version": 3
   },
   "file_extension": ".py",
   "mimetype": "text/x-python",
   "name": "python",
   "nbconvert_exporter": "python",
   "pygments_lexer": "ipython3",
   "version": "3.11.13"
  }
 },
 "nbformat": 4,
 "nbformat_minor": 5
}
