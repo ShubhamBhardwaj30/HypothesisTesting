{
 "cells": [
  {
   "cell_type": "code",
   "execution_count": 2,
   "id": "b9d10b8a",
   "metadata": {},
   "outputs": [],
   "source": [
    "import numpy as np\n",
    "import pandas as pd\n"
   ]
  },
  {
   "cell_type": "markdown",
   "id": "f72911b5",
   "metadata": {},
   "source": [
    "## 🔹 1. Simple Randomization (Coin Flip)\n",
    "\n",
    "- Each unit (user/cluster) is independently randomized.\n",
    "    * May result in imbalance (e.g., 7 treatment, 3 control).\n",
    "\t* Fine when large samples are available."
   ]
  },
  {
   "cell_type": "code",
   "execution_count": 3,
   "id": "990b2f0b",
   "metadata": {},
   "outputs": [
    {
     "name": "stdout",
     "output_type": "stream",
     "text": [
      "[0 0 1 0 1 1 0 1 0 0]\n"
     ]
    }
   ],
   "source": [
    "\n",
    "n_clusters = 10\n",
    "assignment = np.random.choice([0, 1], size=n_clusters)\n",
    "print(assignment)\n"
   ]
  },
  {
   "cell_type": "markdown",
   "id": "60d01521",
   "metadata": {},
   "source": [
    "## 🔹 2. Complete Randomization (Fixed Split)\n",
    "\n",
    "- Ensure exact balance between groups.\n",
    "- Guarantees equal treatment/control sizes (5 and 5 here).\n",
    "- Common in A/B tests to avoid imbalance."
   ]
  },
  {
   "cell_type": "code",
   "execution_count": 4,
   "id": "0473e1df",
   "metadata": {},
   "outputs": [
    {
     "name": "stdout",
     "output_type": "stream",
     "text": [
      "[0 1 1 1 0]\n"
     ]
    }
   ],
   "source": [
    "n_clusters = 5\n",
    "half = n_clusters // 2\n",
    "\n",
    "# Randomly decide which label gets the extra cluster\n",
    "labels = [0, 1]\n",
    "np.random.shuffle(labels)  # randomize label order\n",
    "\n",
    "assignment = np.array([labels[0]]*half + [labels[1]]*(n_clusters - half))\n",
    "np.random.shuffle(assignment)  # shuffle to randomize cluster assignment\n",
    "print(assignment)"
   ]
  },
  {
   "cell_type": "markdown",
   "id": "1aafdf69",
   "metadata": {},
   "source": [
    "## 🔹 3. Blocked Randomization\n",
    "\n",
    "Randomize within small blocks to maintain balance over time or within subgroups.\n",
    "- Every 4 clusters → 2 control, 2 treatment.\n",
    "- Prevents imbalance if experiment stops early.\n"
   ]
  },
  {
   "cell_type": "code",
   "execution_count": 5,
   "id": "66df89e0",
   "metadata": {},
   "outputs": [
    {
     "name": "stdout",
     "output_type": "stream",
     "text": [
      "[np.int64(0), np.int64(0), np.int64(1), np.int64(1), np.int64(0), np.int64(1), np.int64(0), np.int64(1), np.int64(1), np.int64(1), np.int64(0), np.int64(0)]\n"
     ]
    }
   ],
   "source": [
    "n_clusters = 12\n",
    "block_size = 4   # each block has 2 control, 2 treatment\n",
    "assignment = []\n",
    "\n",
    "for _ in range(n_clusters // block_size):\n",
    "    block = np.array([0] * (block_size//2) + [1] * (block_size//2))\n",
    "    np.random.shuffle(block)\n",
    "    assignment.extend(block)\n",
    "\n",
    "print(assignment)"
   ]
  },
  {
   "cell_type": "markdown",
   "id": "fb739e72",
   "metadata": {},
   "source": [
    "## 🔹 4. Stratified Randomization\n",
    "\n",
    "First divide clusters into strata (based on covariates), then randomize within each stratum.\n",
    "\n",
    "Example: Stratify clusters into “small” vs “large” based on size.\n",
    "- Ensures treatment/control are balanced within strata.\n",
    "- Useful if cluster size (or baseline metric) strongly influences outcome."
   ]
  },
  {
   "cell_type": "code",
   "execution_count": 6,
   "id": "9cae75e3",
   "metadata": {},
   "outputs": [
    {
     "name": "stdout",
     "output_type": "stream",
     "text": [
      "   cluster  size stratum  treatment\n",
      "0        0    88   large          1\n",
      "1        1    78   large          0\n",
      "2        2    64   small          0\n",
      "3        3    92   large          1\n",
      "4        4    57   small          0\n",
      "5        5    70   small          1\n",
      "6        6    88   large          1\n",
      "7        7    68   small          0\n",
      "8        8    72   small          1\n",
      "9        9    60   small          0\n"
     ]
    }
   ],
   "source": [
    "\n",
    "\n",
    "np.random.seed(42)\n",
    "cluster_sizes = np.random.randint(50, 100, size=10)  # cluster sizes\n",
    "\n",
    "df = pd.DataFrame({\"cluster\": range(10), \"size\": cluster_sizes})\n",
    "\n",
    "df[\"stratum\"] = np.where(df[\"size\"] < 75, \"small\", \"large\")\n",
    "\n",
    "assignments = []\n",
    "for stratum, group in df.groupby(\"stratum\"):\n",
    "    n = len(group)\n",
    "    assign = np.array([0]*(n//2) + [1]*(n - n//2))\n",
    "    np.random.shuffle(assign)\n",
    "    assignments.extend(assign)\n",
    "\n",
    "df[\"treatment\"] = assignments\n",
    "print(df)"
   ]
  },
  {
   "cell_type": "markdown",
   "id": "5da700ca",
   "metadata": {},
   "source": [
    "## 🔹 5. Re-Randomization / Constrained Randomization\n",
    "\n",
    "### Simple re-randomization of the cluster-sizes\n",
    "Randomize, then check balance on covariates. If imbalance is too high, randomize again.\n",
    "- Guarantees covariate balance.\n",
    "- Used in constrained randomization designs."
   ]
  },
  {
   "cell_type": "code",
   "execution_count": 26,
   "id": "8fc753e1",
   "metadata": {},
   "outputs": [
    {
     "name": "stdout",
     "output_type": "stream",
     "text": [
      "Cluster sizes: [88 78 64 92 57 70 88 68 72 60]\n",
      "Assignment: [1 1 1 0 0 0 0 0 0 1]\n"
     ]
    }
   ],
   "source": [
    "def randomize_until_balanced(cluster_sizes, threshold=5):\n",
    "    n = len(cluster_sizes)\n",
    "    while True:\n",
    "        assignment = np.random.choice([0, 1], size=n)\n",
    "        mean_diff = abs(cluster_sizes[assignment==1].mean() -\n",
    "                        cluster_sizes[assignment==0].mean())\n",
    "        if mean_diff < threshold:  # accept only if balanced\n",
    "            return assignment\n",
    "\n",
    "np.random.seed(42)\n",
    "sizes = np.random.randint(50, 100, size=10)\n",
    "assign = randomize_until_balanced(sizes, threshold=3)\n",
    "print(\"Cluster sizes:\", sizes)\n",
    "print(\"Assignment:\", assign)"
   ]
  },
  {
   "cell_type": "markdown",
   "id": "a6df46bf",
   "metadata": {},
   "source": [
    "### Multi-variate re-rendomization\n",
    "🧠 1️⃣ What it is\n",
    "\n",
    "In single-covariate rerandomization (like your code), you only check one balance condition:\n",
    "\n",
    "|mean(cluster size in treatment) − mean(cluster size in control)| ≤ threshold\n",
    "\n",
    "But in real experiments, you often have several baseline covariates to balance:\n",
    "- cluster size\n",
    "- baseline engagement rate\n",
    "- region\n",
    "- average income\n",
    "- etc.\n",
    "\n",
    "You want all of them to be “well balanced” between treatment and control.\n",
    "\n",
    "So you extend the rerandomization criterion to a vector of covariates.\n",
    "\n",
    "⸻\n",
    "\n",
    "⚙️ 2️⃣ How it’s done: the Mahalanobis distance approach\n",
    "\n",
    "You compute a single multivariate balance metric that summarizes how different the two groups are across all covariates simultaneously.\n",
    "\n",
    "That metric is the Mahalanobis distance between the treatment and control covariate means:\n",
    "\n",
    "M = (\\bar{x}_T - \\bar{x}_C)’ \\Sigma^{-1} (\\bar{x}_T - \\bar{x}_C)\n",
    "\n",
    "where\n",
    "- \\bar{x}_T, \\bar{x}_C = vectors of mean covariate values in treatment and control\n",
    "- \\Sigma = covariance matrix of covariates across all units\n",
    "\n",
    "Then you:\n",
    "1.\tRandomize assignments.\n",
    "2.\tCompute M.\n",
    "3.\tIf M < \\text{threshold}, accept; otherwise, rerandomize.\n",
    "\n",
    "This ensures overall covariate balance across all dimensions, not just one.\n",
    "\n",
    "⸻\n"
   ]
  },
  {
   "cell_type": "code",
   "execution_count": null,
   "id": "377f0866",
   "metadata": {},
   "outputs": [
    {
     "name": "stdout",
     "output_type": "stream",
     "text": [
      "[[ 2.08732424e+02  3.76027701e-02 -8.89898990e-01  1.35454545e-01]\n",
      " [ 3.76027701e-02  7.33238792e-04  3.14143334e-04 -9.11409806e-04]\n",
      " [-8.89898990e-01  3.14143334e-04  2.12121212e-01 -1.12121212e-01]\n",
      " [ 1.35454545e-01 -9.11409806e-04 -1.12121212e-01  2.35454545e-01]]\n",
      "Accepted assignment with Mahalanobis distance: 0.0615\n",
      "treatment              0          1  abs_diff\n",
      "cluster_size   72.826087  75.129630  2.303543\n",
      "baseline_rate   0.096849   0.099722  0.002872\n",
      "region_EU       0.326087   0.277778  0.048309\n",
      "region_NA       0.391304   0.351852  0.039452\n"
     ]
    }
   ],
   "source": [
    "import numpy as np\n",
    "import pandas as pd\n",
    "\n",
    "# --------------------------\n",
    "# Step 1: Define Mahalanobis distance\n",
    "# --------------------------\n",
    "def mahalanobis_distance(df_treat, df_ctrl, covariate_cols):\n",
    "    # Ensure all covariates are numeric\n",
    "    x_t = df_treat[covariate_cols].astype(float).to_numpy()\n",
    "    x_c = df_ctrl[covariate_cols].astype(float).to_numpy()\n",
    "    \n",
    "    # Compute mean difference vector\n",
    "    diff = x_t.mean(axis=0) - x_c.mean(axis=0)\n",
    "    \n",
    "    # Combine treatment + control to compute covariance\n",
    "    combined = np.vstack([x_t, x_c])  # shape = (n_rows, n_covariates)\n",
    "    \n",
    "    # Compute covariance matrix across columns (covariates)\n",
    "    cov = np.cov(combined, rowvar=False)  # rowvar=False => columns = variables\n",
    "\n",
    "    # Invert covariance\n",
    "    inv_cov = np.linalg.inv(cov)\n",
    "    \n",
    "    # Mahalanobis distance\n",
    "    return diff.T @ inv_cov @ diff\n",
    "\n",
    "# --------------------------\n",
    "# Step 2: Rerandomization loop\n",
    "# --------------------------\n",
    "def rerandomize_df(df, covariate_cols, threshold=0.3, max_iter=10000):\n",
    "    n = len(df)\n",
    "    for _ in range(max_iter):\n",
    "        # Random assignment 0=control, 1=treatment\n",
    "        df[\"treatment\"] = np.random.choice([0, 1], size=n)\n",
    "        df_treat = df[df[\"treatment\"] == 1]\n",
    "        df_ctrl = df[df[\"treatment\"] == 0]\n",
    "        \n",
    "        # Compute Mahalanobis distance\n",
    "        M = mahalanobis_distance(df_treat, df_ctrl, covariate_cols)\n",
    "        \n",
    "        # Accept assignment if within threshold\n",
    "        if M < threshold:\n",
    "            return df.copy(), M\n",
    "    raise RuntimeError(\"Failed to find balanced randomization\")\n",
    "\n",
    "# --------------------------\n",
    "# Step 3: Simulate cluster data\n",
    "# --------------------------\n",
    "np.random.seed(42)\n",
    "df = pd.DataFrame({\n",
    "    \"cluster_id\": range(100),\n",
    "    \"cluster_size\": np.random.randint(50, 100, size=100),\n",
    "    \"baseline_rate\": np.random.uniform(0.05, 0.15, size=100),\n",
    "    \"region\": np.random.choice([\"NA\", \"EU\", \"APAC\"], size=100)\n",
    "})\n",
    "\n",
    "# Convert categorical variable 'region' to numeric dummies\n",
    "df = pd.get_dummies(df, columns=[\"region\"], drop_first=True)\n",
    "\n",
    "# --------------------------\n",
    "# Step 4: Run rerandomization\n",
    "# --------------------------\n",
    "covariates = [\"cluster_size\", \"baseline_rate\", \"region_EU\", \"region_NA\"]\n",
    "\n",
    "balanced_df, M_final = rerandomize_df(df, covariates, threshold=0.3)\n",
    "print(f\"Accepted assignment with Mahalanobis distance: {M_final:.4f}\")\n",
    "\n",
    "# --------------------------\n",
    "# Step 5: Check covariate balance\n",
    "# --------------------------\n",
    "summary = balanced_df.groupby(\"treatment\")[covariates].mean().T\n",
    "summary[\"abs_diff\"] = abs(summary[0] - summary[1])\n",
    "print(summary)"
   ]
  },
  {
   "cell_type": "markdown",
   "id": "7c1cf723",
   "metadata": {},
   "source": [
    " ## 🔹 6. Cluster Randomization \n",
    "\n",
    "Instead of randomizing individuals, you randomize entire clusters (groups of users).\n",
    "- Example: In a social network, you don’t want friends in different arms because of interference. So you randomize at the cluster (friend group) level.- - Another example: Randomize whole schools into “new curriculum” vs “old curriculum.”\n",
    "\n",
    "Steps:\n",
    "1.\tIdentify clusters (e.g., schools, groups).\n",
    "2.\tRandomly assign whole clusters to treatment/control.\n",
    "3.\tAll individuals in a cluster follow the cluster’s assignment."
   ]
  },
  {
   "cell_type": "code",
   "execution_count": 8,
   "id": "dc449343",
   "metadata": {},
   "outputs": [
    {
     "name": "stdout",
     "output_type": "stream",
     "text": [
      "    student_id  cluster_id assignment\n",
      "0            1           1  Treatment\n",
      "1            2           1  Treatment\n",
      "2            3           1  Treatment\n",
      "3            4           1  Treatment\n",
      "4            5           1  Treatment\n",
      "5            6           2  Treatment\n",
      "6            7           2  Treatment\n",
      "7            8           2  Treatment\n",
      "8            9           2  Treatment\n",
      "9           10           2  Treatment\n",
      "10          11           3    Control\n",
      "11          12           3    Control\n",
      "12          13           3    Control\n",
      "13          14           3    Control\n",
      "14          15           3    Control\n"
     ]
    }
   ],
   "source": [
    "import numpy as np\n",
    "import pandas as pd\n",
    "\n",
    "# Suppose we have 10 clusters (schools), each with multiple students\n",
    "np.random.seed(42)\n",
    "students = pd.DataFrame({\n",
    "    \"student_id\": np.arange(1, 51),\n",
    "    \"cluster_id\": np.repeat(np.arange(1, 11), 5)  # 10 clusters, 5 students each\n",
    "})\n",
    "\n",
    "# Randomly assign clusters to treatment/control\n",
    "clusters = students[\"cluster_id\"].unique()\n",
    "treatment_clusters = np.random.choice(clusters, size=len(clusters)//2, replace=False)\n",
    "\n",
    "# Mark assignment at cluster level\n",
    "students[\"assignment\"] = students[\"cluster_id\"].apply(\n",
    "    lambda c: \"Treatment\" if c in treatment_clusters else \"Control\"\n",
    ")\n",
    "\n",
    "print(students.head(15))"
   ]
  },
  {
   "cell_type": "markdown",
   "id": "3a4c8dc9",
   "metadata": {},
   "source": [
    "## Stratified Block Randomization\n",
    "\n",
    "This combines:\n",
    "- Stratification: ensures balance across important covariates (e.g., gender, age group).\n",
    "- Blocking: ensures balance within small blocks.\n",
    "\n",
    "This is especially common in clinical trials where you want guaranteed balance across multiple dimensions.\n",
    "\n",
    "Example:\n",
    "- Suppose we want equal Treatment/Control assignment within each gender group.\n",
    "- Within each stratum (Male/Female), we also randomize in blocks of size 4 to keep things balanced."
   ]
  },
  {
   "cell_type": "code",
   "execution_count": 9,
   "id": "2acbaed9",
   "metadata": {},
   "outputs": [
    {
     "name": "stdout",
     "output_type": "stream",
     "text": [
      "    id  gender assignment\n",
      "0    1    Male    Control\n",
      "1    2  Female    Control\n",
      "2    3    Male    Control\n",
      "3    4    Male    Control\n",
      "4    5    Male  Treatment\n",
      "5    6    Male    Control\n",
      "6    7    Male  Treatment\n",
      "7    8  Female    Control\n",
      "8    9  Female  Treatment\n",
      "9   10    Male  Treatment\n",
      "10  11  Female  Treatment\n",
      "11  12  Female  Treatment\n",
      "12  13    Male    Control\n",
      "13  14  Female    Control\n",
      "14  15    Male    Control\n",
      "15  16  Female  Treatment\n",
      "16  17    Male  Treatment\n",
      "17  18  Female    Control\n",
      "18  19  Female    Control\n",
      "19  20    Male  Treatment\n"
     ]
    }
   ],
   "source": [
    "import numpy as np\n",
    "import pandas as pd\n",
    "\n",
    "np.random.seed(123)\n",
    "# Simulated participants\n",
    "participants = pd.DataFrame({\n",
    "    \"id\": np.arange(1, 21),\n",
    "    \"gender\": np.random.choice([\"Male\", \"Female\"], size=20)\n",
    "})\n",
    "\n",
    "def stratified_block_randomization(df, stratify_col, block_size=4):\n",
    "    assignments = []\n",
    "    for stratum, group in df.groupby(stratify_col):\n",
    "        group_ids = group[\"id\"].tolist()\n",
    "        np.random.shuffle(group_ids)\n",
    "        \n",
    "        # Break into blocks\n",
    "        for i in range(0, len(group_ids), block_size):\n",
    "            block = group_ids[i:i+block_size]\n",
    "            # Assign half to treatment, half to control\n",
    "            half = len(block) // 2\n",
    "            assignments.extend([(pid, \"Treatment\") for pid in block[:half]])\n",
    "            assignments.extend([(pid, \"Control\") for pid in block[half:]])\n",
    "    \n",
    "    return pd.DataFrame(assignments, columns=[\"id\", \"assignment\"])\n",
    "\n",
    "assignments = stratified_block_randomization(participants, \"gender\", block_size=4)\n",
    "participants = participants.merge(assignments, on=\"id\")\n",
    "\n",
    "print(participants.sort_values(\"id\"))"
   ]
  },
  {
   "cell_type": "markdown",
   "id": "811b1c68",
   "metadata": {},
   "source": [
    "# --------------------------------------------------------------------------------\n",
    "# Practice"
   ]
  },
  {
   "cell_type": "markdown",
   "id": "9bc678da",
   "metadata": {},
   "source": [
    "## 🔹 1. Simple Randomization (Coin Flip)\n",
    "\n",
    "- Each unit (user/cluster) is independently randomized.\n",
    "    * May result in imbalance (e.g., 7 treatment, 3 control).\n",
    "\t* Fine when large samples are available."
   ]
  },
  {
   "cell_type": "code",
   "execution_count": 10,
   "id": "05f6b4f8",
   "metadata": {},
   "outputs": [
    {
     "data": {
      "text/plain": [
       "array([0, 1, 1, 1, 0, 0, 0, 0, 1, 1])"
      ]
     },
     "execution_count": 10,
     "metadata": {},
     "output_type": "execute_result"
    }
   ],
   "source": [
    "sample_size = 10\n",
    "labels = np.random.choice([0, 1], size=sample_size)\n",
    "labels"
   ]
  },
  {
   "cell_type": "markdown",
   "id": "41d3ed81",
   "metadata": {},
   "source": [
    "## 🔹 2. Complete Randomization (Fixed Split)\n",
    "\n",
    "- Ensure exact balance between groups.\n",
    "- Guarantees equal treatment/control sizes (5 and 5 here).\n",
    "- Common in A/B tests to avoid imbalance."
   ]
  },
  {
   "cell_type": "code",
   "execution_count": 11,
   "id": "61a37200",
   "metadata": {},
   "outputs": [
    {
     "data": {
      "text/plain": [
       "array([0, 0, 0, 0, 0, 1, 1, 1, 1, 1])"
      ]
     },
     "execution_count": 11,
     "metadata": {},
     "output_type": "execute_result"
    }
   ],
   "source": [
    "sample_size = 10\n",
    "half = sample_size // 2\n",
    "\n",
    "labels = np.array([0 , 1])\n",
    "np.random.shuffle(labels)\n",
    "\n",
    "assignments = np.array([labels[0]]* half + [labels[1]]* (sample_size - half))\n",
    "np.random.shuffle(assignments)\n",
    "assignments"
   ]
  },
  {
   "cell_type": "markdown",
   "id": "c4ae4e74",
   "metadata": {},
   "source": [
    "## 🔹 3. Blocked Randomization\n",
    "\n",
    "Randomize within small blocks to maintain balance over time or within subgroups.\n",
    "- Every 4 clusters → 2 control, 2 treatment.\n",
    "- Prevents imbalance if experiment stops early.\n"
   ]
  },
  {
   "cell_type": "code",
   "execution_count": 12,
   "id": "cae526f2",
   "metadata": {},
   "outputs": [
    {
     "data": {
      "text/plain": [
       "[np.int64(1),\n",
       " np.int64(0),\n",
       " np.int64(1),\n",
       " np.int64(0),\n",
       " np.int64(0),\n",
       " np.int64(0),\n",
       " np.int64(1),\n",
       " np.int64(1),\n",
       " np.int64(1),\n",
       " np.int64(0)]"
      ]
     },
     "execution_count": 12,
     "metadata": {},
     "output_type": "execute_result"
    }
   ],
   "source": [
    "sample_size = 100\n",
    "block_size = 10\n",
    "labels = np.array([0,1])\n",
    "half = block_size // 2\n",
    "assignments = []\n",
    "for _ in range(sample_size // block_size):\n",
    "    np.random.shuffle(labels)\n",
    "    block = np.array([labels[0]] * half + [labels[1]] * (block_size - half))\n",
    "    np.random.shuffle(block)\n",
    "    assignments.extend(block)\n",
    "assignments[0:10]\n"
   ]
  },
  {
   "cell_type": "markdown",
   "id": "bc81a327",
   "metadata": {},
   "source": [
    "## 🔹 4. Stratified Randomization\n",
    "\n",
    "First divide clusters into strata (based on covariates), then randomize within each stratum.\n",
    "\n",
    "Example: Stratify clusters into “small” vs “large” based on size.\n",
    "- Ensures treatment/control are balanced within strata.\n",
    "- Useful if cluster size (or baseline metric) strongly influences outcome."
   ]
  },
  {
   "cell_type": "code",
   "execution_count": 13,
   "id": "157e960e",
   "metadata": {},
   "outputs": [
    {
     "name": "stdout",
     "output_type": "stream",
     "text": [
      "12\n",
      "18\n",
      "[np.int64(1), np.int64(0), np.int64(0), np.int64(1), np.int64(1), np.int64(0), np.int64(1), np.int64(1), np.int64(0), np.int64(1), np.int64(0), np.int64(0), np.int64(1), np.int64(0), np.int64(0), np.int64(0), np.int64(0), np.int64(1), np.int64(1), np.int64(1), np.int64(0), np.int64(1), np.int64(1), np.int64(1), np.int64(0), np.int64(1), np.int64(1), np.int64(0), np.int64(0), np.int64(0)]\n"
     ]
    },
    {
     "data": {
      "text/html": [
       "<div>\n",
       "<style scoped>\n",
       "    .dataframe tbody tr th:only-of-type {\n",
       "        vertical-align: middle;\n",
       "    }\n",
       "\n",
       "    .dataframe tbody tr th {\n",
       "        vertical-align: top;\n",
       "    }\n",
       "\n",
       "    .dataframe thead th {\n",
       "        text-align: right;\n",
       "    }\n",
       "</style>\n",
       "<table border=\"1\" class=\"dataframe\">\n",
       "  <thead>\n",
       "    <tr style=\"text-align: right;\">\n",
       "      <th></th>\n",
       "      <th>cluster</th>\n",
       "      <th>size</th>\n",
       "      <th>stratum</th>\n",
       "      <th>group</th>\n",
       "    </tr>\n",
       "  </thead>\n",
       "  <tbody>\n",
       "    <tr>\n",
       "      <th>0</th>\n",
       "      <td>0</td>\n",
       "      <td>88</td>\n",
       "      <td>large</td>\n",
       "      <td>1</td>\n",
       "    </tr>\n",
       "    <tr>\n",
       "      <th>1</th>\n",
       "      <td>1</td>\n",
       "      <td>78</td>\n",
       "      <td>large</td>\n",
       "      <td>0</td>\n",
       "    </tr>\n",
       "    <tr>\n",
       "      <th>2</th>\n",
       "      <td>2</td>\n",
       "      <td>64</td>\n",
       "      <td>small</td>\n",
       "      <td>0</td>\n",
       "    </tr>\n",
       "    <tr>\n",
       "      <th>3</th>\n",
       "      <td>3</td>\n",
       "      <td>92</td>\n",
       "      <td>large</td>\n",
       "      <td>1</td>\n",
       "    </tr>\n",
       "    <tr>\n",
       "      <th>4</th>\n",
       "      <td>4</td>\n",
       "      <td>57</td>\n",
       "      <td>small</td>\n",
       "      <td>1</td>\n",
       "    </tr>\n",
       "    <tr>\n",
       "      <th>5</th>\n",
       "      <td>5</td>\n",
       "      <td>70</td>\n",
       "      <td>small</td>\n",
       "      <td>0</td>\n",
       "    </tr>\n",
       "    <tr>\n",
       "      <th>6</th>\n",
       "      <td>6</td>\n",
       "      <td>88</td>\n",
       "      <td>large</td>\n",
       "      <td>1</td>\n",
       "    </tr>\n",
       "    <tr>\n",
       "      <th>7</th>\n",
       "      <td>7</td>\n",
       "      <td>68</td>\n",
       "      <td>small</td>\n",
       "      <td>1</td>\n",
       "    </tr>\n",
       "    <tr>\n",
       "      <th>8</th>\n",
       "      <td>8</td>\n",
       "      <td>72</td>\n",
       "      <td>small</td>\n",
       "      <td>0</td>\n",
       "    </tr>\n",
       "    <tr>\n",
       "      <th>9</th>\n",
       "      <td>9</td>\n",
       "      <td>60</td>\n",
       "      <td>small</td>\n",
       "      <td>1</td>\n",
       "    </tr>\n",
       "    <tr>\n",
       "      <th>10</th>\n",
       "      <td>10</td>\n",
       "      <td>60</td>\n",
       "      <td>small</td>\n",
       "      <td>0</td>\n",
       "    </tr>\n",
       "    <tr>\n",
       "      <th>11</th>\n",
       "      <td>11</td>\n",
       "      <td>73</td>\n",
       "      <td>small</td>\n",
       "      <td>0</td>\n",
       "    </tr>\n",
       "    <tr>\n",
       "      <th>12</th>\n",
       "      <td>12</td>\n",
       "      <td>85</td>\n",
       "      <td>large</td>\n",
       "      <td>1</td>\n",
       "    </tr>\n",
       "    <tr>\n",
       "      <th>13</th>\n",
       "      <td>13</td>\n",
       "      <td>89</td>\n",
       "      <td>large</td>\n",
       "      <td>0</td>\n",
       "    </tr>\n",
       "    <tr>\n",
       "      <th>14</th>\n",
       "      <td>14</td>\n",
       "      <td>73</td>\n",
       "      <td>small</td>\n",
       "      <td>0</td>\n",
       "    </tr>\n",
       "    <tr>\n",
       "      <th>15</th>\n",
       "      <td>15</td>\n",
       "      <td>52</td>\n",
       "      <td>small</td>\n",
       "      <td>0</td>\n",
       "    </tr>\n",
       "    <tr>\n",
       "      <th>16</th>\n",
       "      <td>16</td>\n",
       "      <td>71</td>\n",
       "      <td>small</td>\n",
       "      <td>0</td>\n",
       "    </tr>\n",
       "    <tr>\n",
       "      <th>17</th>\n",
       "      <td>17</td>\n",
       "      <td>51</td>\n",
       "      <td>small</td>\n",
       "      <td>1</td>\n",
       "    </tr>\n",
       "    <tr>\n",
       "      <th>18</th>\n",
       "      <td>18</td>\n",
       "      <td>73</td>\n",
       "      <td>small</td>\n",
       "      <td>1</td>\n",
       "    </tr>\n",
       "    <tr>\n",
       "      <th>19</th>\n",
       "      <td>19</td>\n",
       "      <td>93</td>\n",
       "      <td>large</td>\n",
       "      <td>1</td>\n",
       "    </tr>\n",
       "    <tr>\n",
       "      <th>20</th>\n",
       "      <td>20</td>\n",
       "      <td>79</td>\n",
       "      <td>large</td>\n",
       "      <td>0</td>\n",
       "    </tr>\n",
       "    <tr>\n",
       "      <th>21</th>\n",
       "      <td>21</td>\n",
       "      <td>87</td>\n",
       "      <td>large</td>\n",
       "      <td>1</td>\n",
       "    </tr>\n",
       "    <tr>\n",
       "      <th>22</th>\n",
       "      <td>22</td>\n",
       "      <td>51</td>\n",
       "      <td>small</td>\n",
       "      <td>1</td>\n",
       "    </tr>\n",
       "    <tr>\n",
       "      <th>23</th>\n",
       "      <td>23</td>\n",
       "      <td>70</td>\n",
       "      <td>small</td>\n",
       "      <td>1</td>\n",
       "    </tr>\n",
       "    <tr>\n",
       "      <th>24</th>\n",
       "      <td>24</td>\n",
       "      <td>82</td>\n",
       "      <td>large</td>\n",
       "      <td>0</td>\n",
       "    </tr>\n",
       "    <tr>\n",
       "      <th>25</th>\n",
       "      <td>25</td>\n",
       "      <td>61</td>\n",
       "      <td>small</td>\n",
       "      <td>1</td>\n",
       "    </tr>\n",
       "    <tr>\n",
       "      <th>26</th>\n",
       "      <td>26</td>\n",
       "      <td>71</td>\n",
       "      <td>small</td>\n",
       "      <td>1</td>\n",
       "    </tr>\n",
       "    <tr>\n",
       "      <th>27</th>\n",
       "      <td>27</td>\n",
       "      <td>93</td>\n",
       "      <td>large</td>\n",
       "      <td>0</td>\n",
       "    </tr>\n",
       "    <tr>\n",
       "      <th>28</th>\n",
       "      <td>28</td>\n",
       "      <td>74</td>\n",
       "      <td>small</td>\n",
       "      <td>0</td>\n",
       "    </tr>\n",
       "    <tr>\n",
       "      <th>29</th>\n",
       "      <td>29</td>\n",
       "      <td>98</td>\n",
       "      <td>large</td>\n",
       "      <td>0</td>\n",
       "    </tr>\n",
       "  </tbody>\n",
       "</table>\n",
       "</div>"
      ],
      "text/plain": [
       "    cluster  size stratum  group\n",
       "0         0    88   large      1\n",
       "1         1    78   large      0\n",
       "2         2    64   small      0\n",
       "3         3    92   large      1\n",
       "4         4    57   small      1\n",
       "5         5    70   small      0\n",
       "6         6    88   large      1\n",
       "7         7    68   small      1\n",
       "8         8    72   small      0\n",
       "9         9    60   small      1\n",
       "10       10    60   small      0\n",
       "11       11    73   small      0\n",
       "12       12    85   large      1\n",
       "13       13    89   large      0\n",
       "14       14    73   small      0\n",
       "15       15    52   small      0\n",
       "16       16    71   small      0\n",
       "17       17    51   small      1\n",
       "18       18    73   small      1\n",
       "19       19    93   large      1\n",
       "20       20    79   large      0\n",
       "21       21    87   large      1\n",
       "22       22    51   small      1\n",
       "23       23    70   small      1\n",
       "24       24    82   large      0\n",
       "25       25    61   small      1\n",
       "26       26    71   small      1\n",
       "27       27    93   large      0\n",
       "28       28    74   small      0\n",
       "29       29    98   large      0"
      ]
     },
     "execution_count": 13,
     "metadata": {},
     "output_type": "execute_result"
    }
   ],
   "source": [
    "np.random.seed(42)\n",
    "num_clusters = 30\n",
    "cluster_sizes = np.random.randint(50, 100,  size=num_clusters)\n",
    "df = pd.DataFrame({\"cluster\":range(num_clusters),\n",
    "                   \"size\": cluster_sizes\n",
    "                   })\n",
    "df[\"stratum\"] = np.where(df['size'] > 75, \"large\", \"small\" )\n",
    "grp_labels = [0, 1]\n",
    "assigments = []\n",
    "for startum, group in df.groupby(\"stratum\"):\n",
    "    np.random.shuffle(grp_labels)\n",
    "    grp_size = len(group)\n",
    "    print(grp_size)\n",
    "    half = grp_size // 2\n",
    "    labels = np.array([grp_labels[0]] * half + [grp_labels[1]] * (grp_size - half) )\n",
    "    np.random.shuffle(labels)\n",
    "    assigments.extend(labels)\n",
    "print(assigments)\n",
    "df[\"group\"] = assigments\n",
    "df"
   ]
  },
  {
   "cell_type": "code",
   "execution_count": 14,
   "id": "128ccc50",
   "metadata": {},
   "outputs": [
    {
     "data": {
      "text/plain": [
       "60"
      ]
     },
     "execution_count": 14,
     "metadata": {},
     "output_type": "execute_result"
    }
   ],
   "source": [
    "df[df[\"group\"] == 0 ].size"
   ]
  },
  {
   "cell_type": "code",
   "execution_count": 15,
   "id": "6dcd4e78",
   "metadata": {},
   "outputs": [
    {
     "data": {
      "text/plain": [
       "60"
      ]
     },
     "execution_count": 15,
     "metadata": {},
     "output_type": "execute_result"
    }
   ],
   "source": [
    "df[df[\"group\"] == 1 ].size"
   ]
  },
  {
   "cell_type": "code",
   "execution_count": 16,
   "id": "3b1a717e",
   "metadata": {},
   "outputs": [
    {
     "data": {
      "text/plain": [
       "1.5"
      ]
     },
     "execution_count": 16,
     "metadata": {},
     "output_type": "execute_result"
    }
   ],
   "source": [
    "(df[(df[\"group\"] == 0) & (df['stratum'] == 'small')].size)/(df[(df[\"group\"] == 0) & (df['stratum'] == 'large')].size) "
   ]
  },
  {
   "cell_type": "code",
   "execution_count": 17,
   "id": "064384ee",
   "metadata": {},
   "outputs": [
    {
     "data": {
      "text/plain": [
       "1.5"
      ]
     },
     "execution_count": 17,
     "metadata": {},
     "output_type": "execute_result"
    }
   ],
   "source": [
    "(df[df['stratum'] == 'small'].size) / df[df['stratum'] == 'large'].size "
   ]
  },
  {
   "cell_type": "markdown",
   "id": "c41837d2",
   "metadata": {
    "vscode": {
     "languageId": "markdown"
    }
   },
   "source": [
    "## 🔹 5. Re-Randomization / Constrained Randomization\n",
    "\n",
    "Randomize, then check balance on covariates. If imbalance is too high, randomize again.\n",
    "- Guarantees covariate balance.\n",
    "- Used in constrained randomization designs."
   ]
  },
  {
   "cell_type": "code",
   "execution_count": 37,
   "id": "a55a2fb7",
   "metadata": {},
   "outputs": [
    {
     "name": "stdout",
     "output_type": "stream",
     "text": [
      "[94 83 96 89 72 73 78 87 63 88 97 98 67 98 82 88 66 86 60 79 55 69 76 73\n",
      " 72 94 55 64 99 79 60 61 96 88 80 61 55 78 79 96 56 66 57 57 52 94 79 94\n",
      " 99 69 51 59 59 90 70 85 73 51 52 51 82 81 78 56 76 64 97 96 74 65 91 55\n",
      " 92 82 63 67 78 50 59 72 51 79 58 65 88 96 72 77 76 66 99 59 62 68 91 89\n",
      " 51 90 60 85]\n",
      "[1 1 1 0 1 1 1 0 0 0 0 0 0 1 1 1 0 0 0 0 0 1 1 0 1 0 0 0 0 1 0 0 0 1 1 0 1\n",
      " 1 1 0 1 1 1 1 0 0 0 0 1 1 0 1 0 1 1 0 1 0 1 0 1 1 1 1 0 0 0 0 0 0 0 0 1 0\n",
      " 1 1 0 0 1 1 0 1 0 1 0 0 0 1 0 0 1 1 1 0 1 1 1 0 0 0]\n"
     ]
    }
   ],
   "source": [
    "n_clusters = 100\n",
    "cluster_sizes = np.random.randint(50, 100, size = n_clusters)\n",
    "threshold = 3\n",
    "\n",
    "while True:\n",
    "    assignments = np.random.choice([0, 1], size=n_clusters)\n",
    "    label_1_mean = cluster_sizes[assignments == 1].mean()\n",
    "    label_0_mean = cluster_sizes[assignments == 0].mean()\n",
    "    if abs(label_1_mean -label_0_mean) <= threshold:\n",
    "        break;\n",
    "        \n",
    "\n",
    "print(cluster_sizes)\n",
    "print(assignments)\n",
    "\n"
   ]
  },
  {
   "cell_type": "markdown",
   "id": "6821c6b5",
   "metadata": {},
   "source": [
    "### Multi-variate re-rendomization"
   ]
  },
  {
   "cell_type": "code",
   "execution_count": null,
   "id": "e2d2140c",
   "metadata": {},
   "outputs": [],
   "source": [
    "##-------TO-DO--------------"
   ]
  },
  {
   "cell_type": "markdown",
   "id": "76cbfd63",
   "metadata": {},
   "source": [
    " ## 🔹 6. Cluster Randomization "
   ]
  },
  {
   "cell_type": "code",
   "execution_count": 65,
   "id": "c283aa2a",
   "metadata": {},
   "outputs": [
    {
     "name": "stdout",
     "output_type": "stream",
     "text": [
      "[18 13 11  2  6 17  9 14  4  8]\n",
      "    student_id  cluster_id      group\n",
      "0            1           1    control\n",
      "1            2           1    control\n",
      "2            3           1    control\n",
      "3            4           1    control\n",
      "4            5           1    control\n",
      "..         ...         ...        ...\n",
      "95          96           4  treatment\n",
      "96          97           4  treatment\n",
      "97          98           4  treatment\n",
      "98          99           4  treatment\n",
      "99         100           4  treatment\n",
      "\n",
      "[100 rows x 3 columns]\n"
     ]
    }
   ],
   "source": [
    "n_cluster = 20\n",
    "sample_size = 500\n",
    "df = pd.DataFrame({\n",
    "        \"student_id\": np.arange(1, sample_size + 1),\n",
    "        \"cluster_id\": np.repeat(np.arange(1, n_cluster + 1) , sample_size // n_cluster)\n",
    "})\n",
    "cluster_ids = df['cluster_id'].unique()\n",
    "treatment_clusters = np.random.choice(cluster_ids, size=len(cluster_ids)//2, replace=False)\n",
    "print(treatment_clusters)\n",
    "df['group'] = df.cluster_id.apply(lambda c: \"treatment\" if c in treatment_clusters else \"control\")\n",
    "print(df.head(100))\n"
   ]
  },
  {
   "cell_type": "code",
   "execution_count": null,
   "id": "b6d28135",
   "metadata": {},
   "outputs": [],
   "source": []
  }
 ],
 "metadata": {
  "kernelspec": {
   "display_name": ".venv",
   "language": "python",
   "name": "python3"
  },
  "language_info": {
   "codemirror_mode": {
    "name": "ipython",
    "version": 3
   },
   "file_extension": ".py",
   "mimetype": "text/x-python",
   "name": "python",
   "nbconvert_exporter": "python",
   "pygments_lexer": "ipython3",
   "version": "3.11.13"
  }
 },
 "nbformat": 4,
 "nbformat_minor": 5
}
